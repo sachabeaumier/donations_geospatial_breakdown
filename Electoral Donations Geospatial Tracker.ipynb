{
 "cells": [
  {
   "cell_type": "code",
   "execution_count": 1,
   "id": "b21f314b",
   "metadata": {},
   "outputs": [
    {
     "name": "stdout",
     "output_type": "stream",
     "text": [
      "Requirement already satisfied: keplergl in /opt/anaconda3/lib/python3.9/site-packages (0.3.2)\n",
      "Requirement already satisfied: pandas in /opt/anaconda3/lib/python3.9/site-packages (1.4.4)\n",
      "Requirement already satisfied: ipywidgets<8,>=7.0.0 in /opt/anaconda3/lib/python3.9/site-packages (from keplergl) (7.6.5)\n",
      "Requirement already satisfied: geopandas>=0.5.0 in /opt/anaconda3/lib/python3.9/site-packages (from keplergl) (0.12.1)\n",
      "Requirement already satisfied: traittypes>=0.2.1 in /opt/anaconda3/lib/python3.9/site-packages (from keplergl) (0.2.1)\n",
      "Requirement already satisfied: Shapely>=1.6.4.post2 in /opt/anaconda3/lib/python3.9/site-packages (from keplergl) (1.8.5.post1)\n",
      "Requirement already satisfied: python-dateutil>=2.8.1 in /opt/anaconda3/lib/python3.9/site-packages (from pandas) (2.8.2)\n",
      "Requirement already satisfied: pytz>=2020.1 in /opt/anaconda3/lib/python3.9/site-packages (from pandas) (2022.1)\n",
      "Requirement already satisfied: numpy>=1.18.5 in /opt/anaconda3/lib/python3.9/site-packages (from pandas) (1.21.5)\n",
      "Requirement already satisfied: fiona>=1.8 in /opt/anaconda3/lib/python3.9/site-packages (from geopandas>=0.5.0->keplergl) (1.8.22)\n",
      "Requirement already satisfied: packaging in /opt/anaconda3/lib/python3.9/site-packages (from geopandas>=0.5.0->keplergl) (21.3)\n",
      "Requirement already satisfied: pyproj>=2.6.1.post1 in /opt/anaconda3/lib/python3.9/site-packages (from geopandas>=0.5.0->keplergl) (3.4.0)\n",
      "Requirement already satisfied: ipython-genutils~=0.2.0 in /opt/anaconda3/lib/python3.9/site-packages (from ipywidgets<8,>=7.0.0->keplergl) (0.2.0)\n",
      "Requirement already satisfied: ipython>=4.0.0 in /opt/anaconda3/lib/python3.9/site-packages (from ipywidgets<8,>=7.0.0->keplergl) (7.31.1)\n",
      "Requirement already satisfied: traitlets>=4.3.1 in /opt/anaconda3/lib/python3.9/site-packages (from ipywidgets<8,>=7.0.0->keplergl) (5.9.0)\n",
      "Requirement already satisfied: widgetsnbextension~=3.5.0 in /opt/anaconda3/lib/python3.9/site-packages (from ipywidgets<8,>=7.0.0->keplergl) (3.5.2)\n",
      "Requirement already satisfied: jupyterlab-widgets>=1.0.0 in /opt/anaconda3/lib/python3.9/site-packages (from ipywidgets<8,>=7.0.0->keplergl) (1.0.0)\n",
      "Requirement already satisfied: ipykernel>=4.5.1 in /opt/anaconda3/lib/python3.9/site-packages (from ipywidgets<8,>=7.0.0->keplergl) (6.15.2)\n",
      "Requirement already satisfied: nbformat>=4.2.0 in /opt/anaconda3/lib/python3.9/site-packages (from ipywidgets<8,>=7.0.0->keplergl) (5.5.0)\n",
      "Requirement already satisfied: six>=1.5 in /opt/anaconda3/lib/python3.9/site-packages (from python-dateutil>=2.8.1->pandas) (1.16.0)\n",
      "Requirement already satisfied: attrs>=17 in /opt/anaconda3/lib/python3.9/site-packages (from fiona>=1.8->geopandas>=0.5.0->keplergl) (21.4.0)\n",
      "Requirement already satisfied: cligj>=0.5 in /opt/anaconda3/lib/python3.9/site-packages (from fiona>=1.8->geopandas>=0.5.0->keplergl) (0.7.2)\n",
      "Requirement already satisfied: click>=4.0 in /opt/anaconda3/lib/python3.9/site-packages (from fiona>=1.8->geopandas>=0.5.0->keplergl) (8.0.4)\n",
      "Requirement already satisfied: click-plugins>=1.0 in /opt/anaconda3/lib/python3.9/site-packages (from fiona>=1.8->geopandas>=0.5.0->keplergl) (1.1.1)\n",
      "Requirement already satisfied: setuptools in /opt/anaconda3/lib/python3.9/site-packages (from fiona>=1.8->geopandas>=0.5.0->keplergl) (65.5.0)\n",
      "Requirement already satisfied: munch in /opt/anaconda3/lib/python3.9/site-packages (from fiona>=1.8->geopandas>=0.5.0->keplergl) (2.5.0)\n",
      "Requirement already satisfied: certifi in /opt/anaconda3/lib/python3.9/site-packages (from fiona>=1.8->geopandas>=0.5.0->keplergl) (2022.9.24)\n",
      "Requirement already satisfied: nest-asyncio in /opt/anaconda3/lib/python3.9/site-packages (from ipykernel>=4.5.1->ipywidgets<8,>=7.0.0->keplergl) (1.5.5)\n",
      "Requirement already satisfied: appnope in /opt/anaconda3/lib/python3.9/site-packages (from ipykernel>=4.5.1->ipywidgets<8,>=7.0.0->keplergl) (0.1.2)\n",
      "Requirement already satisfied: matplotlib-inline>=0.1 in /opt/anaconda3/lib/python3.9/site-packages (from ipykernel>=4.5.1->ipywidgets<8,>=7.0.0->keplergl) (0.1.6)\n",
      "Requirement already satisfied: debugpy>=1.0 in /opt/anaconda3/lib/python3.9/site-packages (from ipykernel>=4.5.1->ipywidgets<8,>=7.0.0->keplergl) (1.5.1)\n",
      "Requirement already satisfied: tornado>=6.1 in /opt/anaconda3/lib/python3.9/site-packages (from ipykernel>=4.5.1->ipywidgets<8,>=7.0.0->keplergl) (6.3.3)\n",
      "Requirement already satisfied: psutil in /opt/anaconda3/lib/python3.9/site-packages (from ipykernel>=4.5.1->ipywidgets<8,>=7.0.0->keplergl) (5.9.0)\n",
      "Requirement already satisfied: pyzmq>=17 in /opt/anaconda3/lib/python3.9/site-packages (from ipykernel>=4.5.1->ipywidgets<8,>=7.0.0->keplergl) (23.2.0)\n",
      "Requirement already satisfied: jupyter-client>=6.1.12 in /opt/anaconda3/lib/python3.9/site-packages (from ipykernel>=4.5.1->ipywidgets<8,>=7.0.0->keplergl) (8.3.1)\n",
      "Requirement already satisfied: pickleshare in /opt/anaconda3/lib/python3.9/site-packages (from ipython>=4.0.0->ipywidgets<8,>=7.0.0->keplergl) (0.7.5)\n",
      "Requirement already satisfied: prompt-toolkit!=3.0.0,!=3.0.1,<3.1.0,>=2.0.0 in /opt/anaconda3/lib/python3.9/site-packages (from ipython>=4.0.0->ipywidgets<8,>=7.0.0->keplergl) (3.0.20)\n",
      "Requirement already satisfied: backcall in /opt/anaconda3/lib/python3.9/site-packages (from ipython>=4.0.0->ipywidgets<8,>=7.0.0->keplergl) (0.2.0)\n",
      "Requirement already satisfied: decorator in /opt/anaconda3/lib/python3.9/site-packages (from ipython>=4.0.0->ipywidgets<8,>=7.0.0->keplergl) (5.1.1)\n",
      "Requirement already satisfied: jedi>=0.16 in /opt/anaconda3/lib/python3.9/site-packages (from ipython>=4.0.0->ipywidgets<8,>=7.0.0->keplergl) (0.18.1)\n",
      "Requirement already satisfied: pexpect>4.3 in /opt/anaconda3/lib/python3.9/site-packages (from ipython>=4.0.0->ipywidgets<8,>=7.0.0->keplergl) (4.8.0)\n",
      "Requirement already satisfied: pygments in /opt/anaconda3/lib/python3.9/site-packages (from ipython>=4.0.0->ipywidgets<8,>=7.0.0->keplergl) (2.11.2)\n",
      "Requirement already satisfied: jupyter_core in /opt/anaconda3/lib/python3.9/site-packages (from nbformat>=4.2.0->ipywidgets<8,>=7.0.0->keplergl) (5.3.1)\n",
      "Requirement already satisfied: fastjsonschema in /opt/anaconda3/lib/python3.9/site-packages (from nbformat>=4.2.0->ipywidgets<8,>=7.0.0->keplergl) (2.16.2)\n",
      "Requirement already satisfied: jsonschema>=2.6 in /opt/anaconda3/lib/python3.9/site-packages (from nbformat>=4.2.0->ipywidgets<8,>=7.0.0->keplergl) (4.16.0)\n",
      "Requirement already satisfied: notebook>=4.4.1 in /opt/anaconda3/lib/python3.9/site-packages (from widgetsnbextension~=3.5.0->ipywidgets<8,>=7.0.0->keplergl) (6.4.12)\n",
      "Requirement already satisfied: pyparsing!=3.0.5,>=2.0.2 in /opt/anaconda3/lib/python3.9/site-packages (from packaging->geopandas>=0.5.0->keplergl) (3.0.9)\n",
      "Requirement already satisfied: parso<0.9.0,>=0.8.0 in /opt/anaconda3/lib/python3.9/site-packages (from jedi>=0.16->ipython>=4.0.0->ipywidgets<8,>=7.0.0->keplergl) (0.8.3)\n",
      "Requirement already satisfied: pyrsistent!=0.17.0,!=0.17.1,!=0.17.2,>=0.14.0 in /opt/anaconda3/lib/python3.9/site-packages (from jsonschema>=2.6->nbformat>=4.2.0->ipywidgets<8,>=7.0.0->keplergl) (0.18.0)\n",
      "Requirement already satisfied: importlib-metadata>=4.8.3 in /opt/anaconda3/lib/python3.9/site-packages (from jupyter-client>=6.1.12->ipykernel>=4.5.1->ipywidgets<8,>=7.0.0->keplergl) (4.11.3)\n",
      "Requirement already satisfied: platformdirs>=2.5 in /opt/anaconda3/lib/python3.9/site-packages (from jupyter_core->nbformat>=4.2.0->ipywidgets<8,>=7.0.0->keplergl) (2.5.2)\n",
      "Requirement already satisfied: jinja2 in /opt/anaconda3/lib/python3.9/site-packages (from notebook>=4.4.1->widgetsnbextension~=3.5.0->ipywidgets<8,>=7.0.0->keplergl) (2.11.3)\n",
      "Requirement already satisfied: prometheus-client in /opt/anaconda3/lib/python3.9/site-packages (from notebook>=4.4.1->widgetsnbextension~=3.5.0->ipywidgets<8,>=7.0.0->keplergl) (0.14.1)\n",
      "Requirement already satisfied: Send2Trash>=1.8.0 in /opt/anaconda3/lib/python3.9/site-packages (from notebook>=4.4.1->widgetsnbextension~=3.5.0->ipywidgets<8,>=7.0.0->keplergl) (1.8.0)\n",
      "Requirement already satisfied: nbconvert>=5 in /opt/anaconda3/lib/python3.9/site-packages (from notebook>=4.4.1->widgetsnbextension~=3.5.0->ipywidgets<8,>=7.0.0->keplergl) (6.4.4)\n",
      "Requirement already satisfied: terminado>=0.8.3 in /opt/anaconda3/lib/python3.9/site-packages (from notebook>=4.4.1->widgetsnbextension~=3.5.0->ipywidgets<8,>=7.0.0->keplergl) (0.13.1)\n",
      "Requirement already satisfied: argon2-cffi in /opt/anaconda3/lib/python3.9/site-packages (from notebook>=4.4.1->widgetsnbextension~=3.5.0->ipywidgets<8,>=7.0.0->keplergl) (21.3.0)\n",
      "Requirement already satisfied: ptyprocess>=0.5 in /opt/anaconda3/lib/python3.9/site-packages (from pexpect>4.3->ipython>=4.0.0->ipywidgets<8,>=7.0.0->keplergl) (0.7.0)\n",
      "Requirement already satisfied: wcwidth in /opt/anaconda3/lib/python3.9/site-packages (from prompt-toolkit!=3.0.0,!=3.0.1,<3.1.0,>=2.0.0->ipython>=4.0.0->ipywidgets<8,>=7.0.0->keplergl) (0.2.5)\n"
     ]
    },
    {
     "name": "stdout",
     "output_type": "stream",
     "text": [
      "Requirement already satisfied: zipp>=0.5 in /opt/anaconda3/lib/python3.9/site-packages (from importlib-metadata>=4.8.3->jupyter-client>=6.1.12->ipykernel>=4.5.1->ipywidgets<8,>=7.0.0->keplergl) (3.8.0)\n",
      "Requirement already satisfied: entrypoints>=0.2.2 in /opt/anaconda3/lib/python3.9/site-packages (from nbconvert>=5->notebook>=4.4.1->widgetsnbextension~=3.5.0->ipywidgets<8,>=7.0.0->keplergl) (0.4)\n",
      "Requirement already satisfied: beautifulsoup4 in /opt/anaconda3/lib/python3.9/site-packages (from nbconvert>=5->notebook>=4.4.1->widgetsnbextension~=3.5.0->ipywidgets<8,>=7.0.0->keplergl) (4.11.1)\n",
      "Requirement already satisfied: defusedxml in /opt/anaconda3/lib/python3.9/site-packages (from nbconvert>=5->notebook>=4.4.1->widgetsnbextension~=3.5.0->ipywidgets<8,>=7.0.0->keplergl) (0.7.1)\n",
      "Requirement already satisfied: mistune<2,>=0.8.1 in /opt/anaconda3/lib/python3.9/site-packages (from nbconvert>=5->notebook>=4.4.1->widgetsnbextension~=3.5.0->ipywidgets<8,>=7.0.0->keplergl) (0.8.4)\n",
      "Requirement already satisfied: jupyterlab-pygments in /opt/anaconda3/lib/python3.9/site-packages (from nbconvert>=5->notebook>=4.4.1->widgetsnbextension~=3.5.0->ipywidgets<8,>=7.0.0->keplergl) (0.1.2)\n",
      "Requirement already satisfied: bleach in /opt/anaconda3/lib/python3.9/site-packages (from nbconvert>=5->notebook>=4.4.1->widgetsnbextension~=3.5.0->ipywidgets<8,>=7.0.0->keplergl) (4.1.0)\n",
      "Requirement already satisfied: pandocfilters>=1.4.1 in /opt/anaconda3/lib/python3.9/site-packages (from nbconvert>=5->notebook>=4.4.1->widgetsnbextension~=3.5.0->ipywidgets<8,>=7.0.0->keplergl) (1.5.0)\n",
      "Requirement already satisfied: nbclient<0.6.0,>=0.5.0 in /opt/anaconda3/lib/python3.9/site-packages (from nbconvert>=5->notebook>=4.4.1->widgetsnbextension~=3.5.0->ipywidgets<8,>=7.0.0->keplergl) (0.5.13)\n",
      "Requirement already satisfied: testpath in /opt/anaconda3/lib/python3.9/site-packages (from nbconvert>=5->notebook>=4.4.1->widgetsnbextension~=3.5.0->ipywidgets<8,>=7.0.0->keplergl) (0.6.0)\n",
      "Requirement already satisfied: MarkupSafe>=0.23 in /opt/anaconda3/lib/python3.9/site-packages (from jinja2->notebook>=4.4.1->widgetsnbextension~=3.5.0->ipywidgets<8,>=7.0.0->keplergl) (2.0.1)\n",
      "Requirement already satisfied: argon2-cffi-bindings in /opt/anaconda3/lib/python3.9/site-packages (from argon2-cffi->notebook>=4.4.1->widgetsnbextension~=3.5.0->ipywidgets<8,>=7.0.0->keplergl) (21.2.0)\n",
      "Requirement already satisfied: cffi>=1.0.1 in /opt/anaconda3/lib/python3.9/site-packages (from argon2-cffi-bindings->argon2-cffi->notebook>=4.4.1->widgetsnbextension~=3.5.0->ipywidgets<8,>=7.0.0->keplergl) (1.15.1)\n",
      "Requirement already satisfied: soupsieve>1.2 in /opt/anaconda3/lib/python3.9/site-packages (from beautifulsoup4->nbconvert>=5->notebook>=4.4.1->widgetsnbextension~=3.5.0->ipywidgets<8,>=7.0.0->keplergl) (2.3.2.post1)\n",
      "Requirement already satisfied: webencodings in /opt/anaconda3/lib/python3.9/site-packages (from bleach->nbconvert>=5->notebook>=4.4.1->widgetsnbextension~=3.5.0->ipywidgets<8,>=7.0.0->keplergl) (0.5.1)\n",
      "Requirement already satisfied: pycparser in /opt/anaconda3/lib/python3.9/site-packages (from cffi>=1.0.1->argon2-cffi-bindings->argon2-cffi->notebook>=4.4.1->widgetsnbextension~=3.5.0->ipywidgets<8,>=7.0.0->keplergl) (2.21)\n",
      "Note: you may need to restart the kernel to use updated packages.\n"
     ]
    }
   ],
   "source": [
    "pip install keplergl pandas"
   ]
  },
  {
   "cell_type": "code",
   "execution_count": 2,
   "id": "5768bfe4",
   "metadata": {},
   "outputs": [],
   "source": [
    "import pandas as pd\n",
    "from keplergl import KeplerGl"
   ]
  },
  {
   "cell_type": "code",
   "execution_count": 4,
   "id": "965949e3",
   "metadata": {},
   "outputs": [],
   "source": [
    "data = pd.read_csv('csvscrapeaugustdata.csv')"
   ]
  },
  {
   "cell_type": "code",
   "execution_count": 7,
   "id": "553b8f1f",
   "metadata": {},
   "outputs": [
    {
     "name": "stdout",
     "output_type": "stream",
     "text": [
      "User Guide: https://docs.kepler.gl/docs/keplergl-jupyter\n"
     ]
    },
    {
     "data": {
      "application/vnd.jupyter.widget-view+json": {
       "model_id": "2352fdf9c3ef4de8ac2107243ee40687",
       "version_major": 2,
       "version_minor": 0
      },
      "text/plain": [
       "KeplerGl(config={'version': 'v1', 'config': {'mapState': {'latitude': -38.410594854803925, 'longitude': 174.42…"
      ]
     },
     "metadata": {},
     "output_type": "display_data"
    }
   ],
   "source": [
    "map_1 = KeplerGl(height=500)\n",
    "\n",
    "# Add your data to the map\n",
    "map_1.add_data(data, name='donationsdata')\n",
    "\n",
    "# Create a map visualization\n",
    "map_1.config = {\n",
    "    'version': 'v1',\n",
    "    'config': {\n",
    "        'mapState': {\n",
    "            'latitude': data['lat'].mean(),\n",
    "            'longitude': data['lon'].mean(),\n",
    "            'zoom': 8\n",
    "        }\n",
    "    }\n",
    "}\n",
    "\n",
    "# Display the map\n",
    "map_1"
   ]
  },
  {
   "cell_type": "code",
   "execution_count": null,
   "id": "3ecbf5f1",
   "metadata": {},
   "outputs": [],
   "source": []
  }
 ],
 "metadata": {
  "kernelspec": {
   "display_name": "Python 3 (ipykernel)",
   "language": "python",
   "name": "python3"
  },
  "language_info": {
   "codemirror_mode": {
    "name": "ipython",
    "version": 3
   },
   "file_extension": ".py",
   "mimetype": "text/x-python",
   "name": "python",
   "nbconvert_exporter": "python",
   "pygments_lexer": "ipython3",
   "version": "3.9.12"
  }
 },
 "nbformat": 4,
 "nbformat_minor": 5
}
